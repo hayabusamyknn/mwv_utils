{
 "cells": [
  {
   "cell_type": "code",
   "execution_count": 1,
   "metadata": {
    "collapsed": true
   },
   "outputs": [],
   "source": [
    "import csv, re, os, sys\n",
    "from datetime import datetime, timedelta, date\n",
    "\n",
    "dir_path = './'\n",
    "in_dir_name = 'in_files'\n",
    "out_dir_name = 'out_files'"
   ]
  },
  {
   "cell_type": "code",
   "execution_count": 2,
   "outputs": [],
   "source": [
    "def init_dir():\n",
    "    dir_list = os.listdir(dir_path)\n",
    "    is_init = False\n",
    "    if in_dir_name not in dir_list:\n",
    "        os.mkdir(dir_path + in_dir_name)\n",
    "        print('ディレクトリ /' + in_dir_name + ' を作成しました')\n",
    "        is_init = True\n",
    "    if out_dir_name not in dir_list:\n",
    "        os.mkdir(dir_path + out_dir_name)\n",
    "        print('ディレクトリ /' + out_dir_name + ' を作成しました')\n",
    "        is_init = True\n",
    "    if is_init:\n",
    "        print('ディレクトリの初期化が完了しました')\n",
    "        sys.exit(1)"
   ],
   "metadata": {
    "collapsed": false
   }
  },
  {
   "cell_type": "code",
   "execution_count": 3,
   "outputs": [
    {
     "name": "stdout",
     "output_type": "stream",
     "text": [
      "ディレクトリ /in_files を作成しました\n",
      "ディレクトリ /out_files を作成しました\n",
      "ディレクトリの初期化が完了しました\n",
      "プログラムを終了します\n",
      "==================================================\n"
     ]
    }
   ],
   "source": [
    "try:\n",
    "    init_dir()\n",
    "except SystemExit:\n",
    "    print('プログラムを終了します')\n",
    "    print('=' * 50)"
   ],
   "metadata": {
    "collapsed": false
   }
  }
 ],
 "metadata": {
  "kernelspec": {
   "display_name": "Python 3",
   "language": "python",
   "name": "python3"
  },
  "language_info": {
   "codemirror_mode": {
    "name": "ipython",
    "version": 2
   },
   "file_extension": ".py",
   "mimetype": "text/x-python",
   "name": "python",
   "nbconvert_exporter": "python",
   "pygments_lexer": "ipython2",
   "version": "2.7.6"
  }
 },
 "nbformat": 4,
 "nbformat_minor": 0
}
