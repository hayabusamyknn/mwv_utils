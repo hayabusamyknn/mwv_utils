{
 "cells": [
  {
   "cell_type": "code",
   "execution_count": 27,
   "metadata": {
    "collapsed": true
   },
   "outputs": [],
   "source": [
    "import csv, re, os, sys\n",
    "from datetime import datetime, timedelta, date\n",
    "\n",
    "dir_path = './'\n",
    "in_dir_name = 'in_files'\n",
    "out_dir_name = 'out_files'"
   ]
  },
  {
   "cell_type": "code",
   "execution_count": 28,
   "outputs": [],
   "source": [
    "def init_dir():\n",
    "    dir_list = os.listdir(dir_path)\n",
    "    is_init = False\n",
    "    if in_dir_name not in dir_list:\n",
    "        print('作業ディレクトリが存在しません')\n",
    "        os.mkdir(dir_path + in_dir_name)\n",
    "        print('make: /' + in_dir_name)\n",
    "        is_init = True\n",
    "    if out_dir_name not in dir_list:\n",
    "        if not is_init:\n",
    "            print('作業ディレクトリが存在しません')\n",
    "        os.mkdir(dir_path + out_dir_name)\n",
    "        print('make: /' + out_dir_name)\n",
    "        is_init = True\n",
    "    if is_init:\n",
    "        print('初期化が完了しました')\n",
    "        sys.exit(1)"
   ],
   "metadata": {
    "collapsed": false
   }
  },
  {
   "cell_type": "code",
   "execution_count": 29,
   "outputs": [],
   "source": [
    "def get_valid_num(pronpt='', get_int=True, max=100000):\n",
    "    num = 0\n",
    "    while True:\n",
    "        if pronpt != '':\n",
    "            print(pronpt)\n",
    "        num = input('>')\n",
    "        try:\n",
    "            num = float(num)\n",
    "            if num > max or num < 0:\n",
    "                print(f'0以上{max}未満の数を入力してください')\n",
    "                continue\n",
    "            else:\n",
    "                break\n",
    "        except ValueError:\n",
    "            print('数字を入力してください')\n",
    "            continue\n",
    "    if get_int:\n",
    "        return int(num)\n",
    "    else:\n",
    "        return num"
   ],
   "metadata": {
    "collapsed": false
   }
  },
  {
   "cell_type": "code",
   "execution_count": null,
   "outputs": [],
   "source": [
    "def format_weather_data():\n"
   ],
   "metadata": {
    "collapsed": false
   }
  },
  {
   "cell_type": "code",
   "execution_count": null,
   "outputs": [],
   "source": [],
   "metadata": {
    "collapsed": false
   }
  },
  {
   "cell_type": "code",
   "execution_count": null,
   "outputs": [],
   "source": [],
   "metadata": {
    "collapsed": false
   }
  },
  {
   "cell_type": "code",
   "execution_count": 30,
   "outputs": [
    {
     "name": "stdout",
     "output_type": "stream",
     "text": [
      "使用する機能を選択\n",
      "0) 気象表作成\n",
      "1) コースタイム・軌跡分析\n",
      "2) 概念図用コースタイム作成\n",
      "数字を入力\n",
      "1\n"
     ]
    }
   ],
   "source": [
    "try:\n",
    "    init_dir()\n",
    "\n",
    "    print('使用する機能を選択')\n",
    "    features = [\n",
    "        '気象表作成',\n",
    "        'コースタイム・軌跡分析',\n",
    "        '概念図用コースタイム作成'\n",
    "    ]\n",
    "    for i in range(len(features)):\n",
    "        print(f'{i}) {features[i]}')\n",
    "    feature_choice = get_valid_num(pronpt='数字を入力', max=len(features))\n",
    "\n",
    "    if feature_choice == 0:\n",
    "        print('0')\n",
    "    elif feature_choice == 1:\n",
    "        print('1')\n",
    "    elif feature_choice == 2:\n",
    "        print('2')\n",
    "except SystemExit:\n",
    "    print('\\nプログラムを終了します')\n",
    "    print('=' * 50)"
   ],
   "metadata": {
    "collapsed": false
   }
  }
 ],
 "metadata": {
  "kernelspec": {
   "display_name": "Python 3",
   "language": "python",
   "name": "python3"
  },
  "language_info": {
   "codemirror_mode": {
    "name": "ipython",
    "version": 2
   },
   "file_extension": ".py",
   "mimetype": "text/x-python",
   "name": "python",
   "nbconvert_exporter": "python",
   "pygments_lexer": "ipython2",
   "version": "2.7.6"
  }
 },
 "nbformat": 4,
 "nbformat_minor": 0
}
